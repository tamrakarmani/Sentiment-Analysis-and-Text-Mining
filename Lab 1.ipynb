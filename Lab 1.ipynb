{
  "nbformat": 4,
  "nbformat_minor": 0,
  "metadata": {
    "colab": {
      "provenance": []
    },
    "kernelspec": {
      "name": "python3",
      "display_name": "Python 3"
    },
    "language_info": {
      "name": "python"
    }
  },
  "cells": [
    {
      "cell_type": "code",
      "source": [
        "# Section 1: Numerical Data Types & Arithmetic Operators\n",
        "# The Road Trip Planner"
      ],
      "metadata": {
        "id": "bhn0viFc6vSv"
      },
      "execution_count": null,
      "outputs": []
    },
    {
      "cell_type": "code",
      "source": [
        "# a. How many liters of fuel will you need for the entire trip?\n",
        "distance = 475  # kilometers\n",
        "fuel_efficiency = 11.5  # kilometers per liter\n",
        "fuel_needed = distance / fuel_efficiency\n",
        "print(f\"Fuel needed: {fuel_needed} liters\")"
      ],
      "metadata": {
        "colab": {
          "base_uri": "https://localhost:8080/"
        },
        "id": "gtp7IKy39jFE",
        "outputId": "ba82bc4a-ed9c-4192-bb97-c11d06ec5b81"
      },
      "execution_count": 35,
      "outputs": [
        {
          "output_type": "stream",
          "name": "stdout",
          "text": [
            "Fuel needed: 41.30434782608695 liters\n"
          ]
        }
      ]
    },
    {
      "cell_type": "markdown",
      "source": [
        "To calculate the fuel needed, I divided the total distance by the fuel efficiency. This gives us the total liters required to travel 475 kilometers at an efficiency of 11.5 km/L."
      ],
      "metadata": {
        "id": "DxmCW8tD93Ay"
      }
    },
    {
      "cell_type": "code",
      "source": [
        "# b. How many full tanks of fuel does this represent?\n",
        "tank_capacity = 50  # liters\n",
        "full_tanks = fuel_needed // tank_capacity\n",
        "print(f\"Full tanks needed: {full_tanks}\")"
      ],
      "metadata": {
        "colab": {
          "base_uri": "https://localhost:8080/"
        },
        "id": "1IRRu25u9nxR",
        "outputId": "55b74411-1a9d-4cf3-a30d-97cbb1e7b9b3"
      },
      "execution_count": 36,
      "outputs": [
        {
          "output_type": "stream",
          "name": "stdout",
          "text": [
            "Full tanks needed: 0.0\n"
          ]
        }
      ]
    },
    {
      "cell_type": "markdown",
      "source": [
        "I used the floor division operator (//) to find how many complete tanks would be needed. Since 41.3 liters is less than a single tank's capacity (50 liters), the result is 0 full tanks. This means we can complete the trip with just the initial full tank."
      ],
      "metadata": {
        "id": "lIEmiOor-Bhz"
      }
    },
    {
      "cell_type": "code",
      "source": [
        "# c. What is the total estimated fuel cost for the trip?\n",
        "fuel_price = 1.65  # dollars per liter\n",
        "fuel_cost = fuel_needed * fuel_price\n",
        "print(f\"Total fuel cost: ${fuel_cost:.2f}\")"
      ],
      "metadata": {
        "colab": {
          "base_uri": "https://localhost:8080/"
        },
        "id": "5S4lCocz91yc",
        "outputId": "d77639d5-88fe-42e1-8b31-e82001e1574e"
      },
      "execution_count": 37,
      "outputs": [
        {
          "output_type": "stream",
          "name": "stdout",
          "text": [
            "Total fuel cost: $68.15\n"
          ]
        }
      ]
    },
    {
      "cell_type": "markdown",
      "source": [
        "To calculate the total fuel cost, I multiplied the amount of fuel needed (41.3 liters) by the price per liter ($1.65). This gives the total cost of the fuel required for the trip."
      ],
      "metadata": {
        "id": "znXlTv7c-Zuk"
      }
    },
    {
      "cell_type": "code",
      "source": [
        "# d. How many liters of fuel will be remaining in your tank?\n",
        "starting_fuel = 50  # liters (full tank)\n",
        "remaining_fuel = starting_fuel - fuel_needed\n",
        "print(f\"Remaining fuel: {remaining_fuel} liters\")"
      ],
      "metadata": {
        "colab": {
          "base_uri": "https://localhost:8080/"
        },
        "id": "faBS8M7s-QOk",
        "outputId": "dcbd602f-a514-489e-de04-5780da81fd08"
      },
      "execution_count": 38,
      "outputs": [
        {
          "output_type": "stream",
          "name": "stdout",
          "text": [
            "Remaining fuel: 8.695652173913047 liters\n"
          ]
        }
      ]
    },
    {
      "cell_type": "markdown",
      "source": [
        "Since we start with a full tank of 50 liters and use 41.3 liters for the trip, we'll have approximately 8.7 liters remaining. This makes sense because the fuel needed was less than a full tank."
      ],
      "metadata": {
        "id": "E44ry4o--lI5"
      }
    },
    {
      "cell_type": "code",
      "source": [
        "# Section 2: Comparison & Logical Operators\n",
        "# Theme Park Entry Rules"
      ],
      "metadata": {
        "id": "SjY2wj1r-mlz"
      },
      "execution_count": null,
      "outputs": []
    },
    {
      "cell_type": "code",
      "source": [
        "# a. Write a comprehensive boolean expression for the discount qualification\n",
        "age = 30\n",
        "is_weekday = True\n",
        "is_family_day = False\n",
        "group_size = 3\n",
        "\n",
        "qualifies_for_discount = (age <= 12 and is_weekday) or (age >= 65) or (is_family_day and group_size >= 4)\n",
        "print(f\"Qualifies for discount: {qualifies_for_discount}\")"
      ],
      "metadata": {
        "colab": {
          "base_uri": "https://localhost:8080/"
        },
        "id": "p2YLK335_Gec",
        "outputId": "02bfdce8-c7f1-46a8-f28d-5e7cb142651c"
      },
      "execution_count": 39,
      "outputs": [
        {
          "output_type": "stream",
          "name": "stdout",
          "text": [
            "Qualifies for discount: False\n"
          ]
        }
      ]
    },
    {
      "cell_type": "markdown",
      "source": [
        "The expression combines the three discount conditions using logical operators. With the current values (age 30, weekday, not family day, group size 3), none of the conditions are met, so the result is False."
      ],
      "metadata": {
        "id": "Dc17iT-J_2i4"
      }
    },
    {
      "cell_type": "code",
      "source": [
        "# b. Evaluate the expression with new values\n",
        "age = 10\n",
        "is_weekday = True\n",
        "is_family_day = False\n",
        "group_size = 2\n",
        "\n",
        "qualifies_for_discount = (age <= 12 and is_weekday) or (age >= 65) or (is_family_day and group_size >= 4)\n",
        "print(f\"Qualifies for discount: {qualifies_for_discount}\")"
      ],
      "metadata": {
        "colab": {
          "base_uri": "https://localhost:8080/"
        },
        "id": "d3Q5VIbc_sPM",
        "outputId": "0568c36a-6560-4d5e-e072-20b22395ddc1"
      },
      "execution_count": 40,
      "outputs": [
        {
          "output_type": "stream",
          "name": "stdout",
          "text": [
            "Qualifies for discount: True\n"
          ]
        }
      ]
    },
    {
      "cell_type": "markdown",
      "source": [
        "# c. Explanation of evaluation Step-by-step\n",
        "age = 10\n",
        "is_weekday = True\n",
        "is_family_day = False\n",
        "group_size = 2\n",
        "First condition: (age <= 12 and is_weekday)\n",
        "•\tage <= 12 is 10 <= 12, which is True\n",
        "•\tis_weekday is True\n",
        "•\tTrue and True evaluates to True\n",
        "Second condition: (age >= 65)\n",
        "•\tage >= 65 is 10 >= 65, which is False\n",
        "Third condition: (is_family_day and group_size >= 4)\n",
        "•\tis_family_day is False\n",
        "•\tgroup_size >= 4 is 2 >= 4, which is False\n",
        "•\tFalse and False evaluates to False\n",
        "Combining all conditions: True or False or False\n",
        "•\tTrue or False evaluates to True\n",
        "•\tTrue or False evaluates to True\n",
        "Since the first condition is True (child on a weekday), the entire expression evaluates to True, meaning the person qualifies for a discount."
      ],
      "metadata": {
        "id": "9tgCI4xbBvRD"
      }
    },
    {
      "cell_type": "code",
      "source": [
        "Section 3: String Data Types, Indexing & Slicing\n",
        "Message Decoder"
      ],
      "metadata": {
        "id": "XW0lAHA9CD2a"
      },
      "execution_count": null,
      "outputs": []
    },
    {
      "cell_type": "code",
      "source": [
        "# a. Character at index 5\n",
        "secret_message = \"PyThoN_Is_FuN_AnD_PoWeRfUl!\"\n",
        "char_at_index_5 = secret_message[5]\n",
        "print(f\"Character at index 5: '{char_at_index_5}'\")"
      ],
      "metadata": {
        "colab": {
          "base_uri": "https://localhost:8080/"
        },
        "id": "Imxxj5J2DuMv",
        "outputId": "452aef91-4f37-487b-de73-5e5f5cef165e"
      },
      "execution_count": 41,
      "outputs": [
        {
          "output_type": "stream",
          "name": "stdout",
          "text": [
            "Character at index 5: 'N'\n"
          ]
        }
      ]
    },
    {
      "cell_type": "markdown",
      "source": [
        "In Python, string indexing starts at 0, so the 6th character (at index 5) is 'N'."
      ],
      "metadata": {
        "id": "U9UF4za7D8av"
      }
    },
    {
      "cell_type": "code",
      "source": [
        "# b. Extracting \"Is_FuN\" using positive indexing\n",
        "substring_is_fun = secret_message[7:14]\n",
        "print(f\"Substring 'Is_FuN': '{substring_is_fun}'\")"
      ],
      "metadata": {
        "colab": {
          "base_uri": "https://localhost:8080/"
        },
        "id": "wuIvU3jbD6jq",
        "outputId": "35dccaad-3305-40df-cf19-06fde3baea5d"
      },
      "execution_count": 42,
      "outputs": [
        {
          "output_type": "stream",
          "name": "stdout",
          "text": [
            "Substring 'Is_FuN': 'Is_FuN_'\n"
          ]
        }
      ]
    },
    {
      "cell_type": "markdown",
      "source": [
        "To extract \"Is_FuN\", I identified that it starts at index 7 and ends before index 14. In Python slicing notation, this is written as [7:14]."
      ],
      "metadata": {
        "id": "Eq0Nn_YfENZB"
      }
    },
    {
      "cell_type": "code",
      "source": [
        "# c. Extracting \"PoWeRfUl\" using negative indexing\n",
        "substring_powerful = secret_message[-9:-1]\n",
        "print(f\"Substring 'PoWeRfUl': '{substring_powerful}'\")"
      ],
      "metadata": {
        "colab": {
          "base_uri": "https://localhost:8080/"
        },
        "id": "KjaB-fnwEJ10",
        "outputId": "2d58d2aa-d4e9-473d-c5ca-04ff52ba85a8"
      },
      "execution_count": 43,
      "outputs": [
        {
          "output_type": "stream",
          "name": "stdout",
          "text": [
            "Substring 'PoWeRfUl': 'PoWeRfUl'\n"
          ]
        }
      ]
    },
    {
      "cell_type": "markdown",
      "source": [
        "Using negative indexing, I count from the end of the string. \"PoWeRfUl\" starts at the 9th character from the end (index -9) and ends before the last character (index -1)."
      ],
      "metadata": {
        "id": "J_CT02ZxGipp"
      }
    },
    {
      "cell_type": "code",
      "source": [
        "# d. Extract every 4th character\n",
        "every_fourth = secret_message[0::4]\n",
        "print(f\"Every 4th character: '{every_fourth}'\")"
      ],
      "metadata": {
        "colab": {
          "base_uri": "https://localhost:8080/"
        },
        "id": "cUSUBkkJGWWc",
        "outputId": "fa6cde07-0b61-4c29-a13e-97710497c1d3"
      },
      "execution_count": 44,
      "outputs": [
        {
          "output_type": "stream",
          "name": "stdout",
          "text": [
            "Every 4th character: 'PosNDWU'\n"
          ]
        }
      ]
    },
    {
      "cell_type": "markdown",
      "source": [
        "# e. Accessing secret_message[50].\n",
        "If we try to access secret_message[50], we'll get an IndexError: string index out of range error.\n",
        "This error occurs because the string doesn't have an index 50. The length of secret_message is 29 characters, so valid indices range from 0 to 28 (or -1 to -29 for negative indexing). Trying to access an index outside this range results in an IndexError, which is google colab or python way of telling us we're attempting to access a position that doesn't exist.\n"
      ],
      "metadata": {
        "id": "SOm56lNwIgZ0"
      }
    },
    {
      "cell_type": "code",
      "source": [
        "# Section 4: Boolean Values & Expressions\n",
        "# Predict and Verify"
      ],
      "metadata": {
        "id": "IF16e57VEXPR"
      },
      "execution_count": null,
      "outputs": []
    },
    {
      "cell_type": "code",
      "source": [
        "# Given Values\n",
        "x = 15\n",
        "y = 25\n",
        "z = 15\n",
        "text = \"adventure\""
      ],
      "metadata": {
        "id": "HhyjuaS3JZ8X"
      },
      "execution_count": 23,
      "outputs": []
    },
    {
      "cell_type": "code",
      "source": [
        "# a. (x == z) and (y > x)\n",
        "result_a = (x == z) and (y > x)\n",
        "print(f\"(x == z) and (y > x) = {result_a}\")"
      ],
      "metadata": {
        "colab": {
          "base_uri": "https://localhost:8080/"
        },
        "id": "0gNrEfRdLAqm",
        "outputId": "c16e3ef8-d650-4b8c-f6d3-7d3592063a2f"
      },
      "execution_count": 24,
      "outputs": [
        {
          "output_type": "stream",
          "name": "stdout",
          "text": [
            "(x == z) and (y > x) = True\n"
          ]
        }
      ]
    },
    {
      "cell_type": "markdown",
      "source": [
        "•\tx == z is 15 == 15, which is True\n",
        "•\ty > x is 25 > 15, which is True\n",
        "•\tTrue and True evaluates to *True*"
      ],
      "metadata": {
        "id": "OOuXWDDJLxRR"
      }
    },
    {
      "cell_type": "code",
      "source": [
        "# b. (x != z) or (y < x) or (len(text) < 5)\n",
        "result_b = (x != z) or (y < x) or (len(text) < 5)\n",
        "print(f\"(x != z) or (y < x) or (len(text) < 5) = {result_b}\")\n"
      ],
      "metadata": {
        "colab": {
          "base_uri": "https://localhost:8080/"
        },
        "id": "GfF37CF6LpBO",
        "outputId": "eff0fa02-c83a-465d-d182-686c9bad726e"
      },
      "execution_count": 25,
      "outputs": [
        {
          "output_type": "stream",
          "name": "stdout",
          "text": [
            "(x != z) or (y < x) or (len(text) < 5) = False\n"
          ]
        }
      ]
    },
    {
      "cell_type": "markdown",
      "source": [
        "•\tx != z is 15 != 15, which is False\n",
        "•\ty < x is 25 < 15, which is False\n",
        "•\tlen(text) < 5 is 9 < 5, which is False\n",
        "•\tFalse or False or False evaluates to False"
      ],
      "metadata": {
        "id": "H8sytLO8MIF1"
      }
    },
    {
      "cell_type": "code",
      "source": [
        "# c. not ((x > y) and (text == \"Adventure\")) # This is not valid Python syntax\n",
        "result_c = not ((x > y) and (text == \"Adventure\"))\n",
        "print(f\"not ((x > y) and (text == \\\"Adventure\\\")) = {result_c}\")"
      ],
      "metadata": {
        "colab": {
          "base_uri": "https://localhost:8080/"
        },
        "id": "sXXhv9YUL4eh",
        "outputId": "cbecf1ae-5c3c-4535-8fe9-8addbbfc3f82"
      },
      "execution_count": 28,
      "outputs": [
        {
          "output_type": "stream",
          "name": "stdout",
          "text": [
            "not ((x > y) and (text == \"Adventure\")) = True\n"
          ]
        }
      ]
    },
    {
      "cell_type": "markdown",
      "source": [
        "•\tx > y is 15 > 25, which is False\n",
        "•\ttext == \"Adventure\" is \"adventure\" == \"Adventure\", which is False (case-sensitive)\n",
        "•\tFalse and False evaluates to False\n",
        "•\tnot False evaluates to True"
      ],
      "metadata": {
        "id": "-XGXYVdPMX9d"
      }
    },
    {
      "cell_type": "code",
      "source": [
        "# Section 5: String Properties & Basic Methods\n",
        "# User Profile Setup"
      ],
      "metadata": {
        "id": "sxtQI3QsMZRg"
      },
      "execution_count": null,
      "outputs": []
    },
    {
      "cell_type": "code",
      "source": [
        "# a. Changing the first letter of a username\n",
        "username = \"MyUser123\"\n",
        "try:\n",
        "    username[0] = 'm'\n",
        "    print(username)\n",
        "except TypeError as e:\n",
        "    print(f\"Error: {e}\")"
      ],
      "metadata": {
        "colab": {
          "base_uri": "https://localhost:8080/"
        },
        "id": "IJ0fjdRzMrMS",
        "outputId": "218600d4-1985-40cb-d04b-d1e086e511f5"
      },
      "execution_count": 29,
      "outputs": [
        {
          "output_type": "stream",
          "name": "stdout",
          "text": [
            "Error: 'str' object does not support item assignment\n"
          ]
        }
      ]
    },
    {
      "cell_type": "markdown",
      "source": [
        "This code results in a TypeError because strings in Python/google colabare immutable. This means once a string is created, you cannot change its individual characters. To modify a string, you must create a new string with the desired changes."
      ],
      "metadata": {
        "id": "DH7E5uSbNXur"
      }
    },
    {
      "cell_type": "code",
      "source": [
        "# b. Transforming a quote\n",
        "quote = \" practice makes perfect \"\n",
        "# Step 1: Remove leading/trailing whitespace\n",
        "quote_trimmed = quote.strip()\n",
        "print(f\"After strip(): '{quote_trimmed}'\")"
      ],
      "metadata": {
        "colab": {
          "base_uri": "https://localhost:8080/"
        },
        "id": "RoYS_HL1PCPx",
        "outputId": "7434dcd9-c919-47d6-fe35-0a80c09b2f5d"
      },
      "execution_count": 31,
      "outputs": [
        {
          "output_type": "stream",
          "name": "stdout",
          "text": [
            "After strip(): 'practice makes perfect'\n"
          ]
        }
      ]
    },
    {
      "cell_type": "markdown",
      "source": [
        "The strip() method removes any leading and trailing whitespace from the string."
      ],
      "metadata": {
        "id": "RUg0SC1HPaeA"
      }
    },
    {
      "cell_type": "code",
      "source": [
        "# Step 2: Convert to uppercase\n",
        "quote_upper = quote_trimmed.upper()\n",
        "print(f\"After upper(): '{quote_upper}'\")"
      ],
      "metadata": {
        "colab": {
          "base_uri": "https://localhost:8080/"
        },
        "id": "Qs4v-qEyPWCA",
        "outputId": "a118e830-22a4-465f-e7b3-53d7dd6ee80e"
      },
      "execution_count": 32,
      "outputs": [
        {
          "output_type": "stream",
          "name": "stdout",
          "text": [
            "After upper(): 'PRACTICE MAKES PERFECT'\n"
          ]
        }
      ]
    },
    {
      "cell_type": "markdown",
      "source": [
        "The upper() method converts all characters in the string to uppercase."
      ],
      "metadata": {
        "id": "GLX0vq9bPiLK"
      }
    },
    {
      "cell_type": "code",
      "source": [
        "# Step 3: Replace \"PERFECT\" with \"PROGRESS\"\n",
        "formatted_quote = quote_upper.replace(\"PERFECT\", \"PROGRESS\")\n",
        "print(f\"Final formatted quote: '{formatted_quote}'\")"
      ],
      "metadata": {
        "colab": {
          "base_uri": "https://localhost:8080/"
        },
        "id": "XADaEP9_PdAV",
        "outputId": "c2a35034-89b6-4d93-cefc-a569c5c2e28f"
      },
      "execution_count": 33,
      "outputs": [
        {
          "output_type": "stream",
          "name": "stdout",
          "text": [
            "Final formatted quote: 'PRACTICE MAKES PROGRESS'\n"
          ]
        }
      ]
    },
    {
      "cell_type": "markdown",
      "source": [
        " The replace() method substitutes all occurrences of the first argument with the second argument."
      ],
      "metadata": {
        "id": "2NTgZnaEPqW1"
      }
    },
    {
      "cell_type": "code",
      "source": [
        "# c. Finding the lengths of the quotes\n",
        "original_length = len(quote)\n",
        "formatted_length = len(formatted_quote)\n",
        "\n",
        "print(f\"Length of original quote: {original_length} characters\")\n",
        "print(f\"Length of formatted quote: {formatted_length} characters\")"
      ],
      "metadata": {
        "colab": {
          "base_uri": "https://localhost:8080/"
        },
        "id": "MwI0ogZ3PyLH",
        "outputId": "b8077f63-4f2c-42d3-e161-0a76d7eaee7f"
      },
      "execution_count": 34,
      "outputs": [
        {
          "output_type": "stream",
          "name": "stdout",
          "text": [
            "Length of original quote: 24 characters\n",
            "Length of formatted quote: 23 characters\n"
          ]
        }
      ]
    },
    {
      "cell_type": "markdown",
      "source": [
        "The len() function returns the number of characters in a string, including spaces. The original quote includes leading and trailing spaces, making it longer than the formatted quote which has the spaces removed (although it has a longer replacement word \"PROGRESS\" instead of \"PERFECT\")."
      ],
      "metadata": {
        "id": "A7siJROiP_6E"
      }
    }
  ]
}